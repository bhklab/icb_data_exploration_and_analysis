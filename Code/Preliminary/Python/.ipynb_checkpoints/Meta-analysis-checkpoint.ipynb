{
 "cells": [
  {
   "cell_type": "markdown",
   "id": "5c9e6acb",
   "metadata": {},
   "source": [
    "# Immune-checkpoint blockade (ICB) data\n",
    "\n",
    "## Load data\n",
    "Read RNA-seq expression, clinicopathological characteristics, and gene meta data for ICB Braun (PMID 32472114), Nathanson (PMID 27956380), Snyder (PMID 28552987), and Van Allen (PMID 26359337) data. \n",
    "\n",
    "Note the expression data is log2(TPM + 0.001), where TPM represents transcripts per million.    "
   ]
  },
  {
   "cell_type": "code",
   "execution_count": 79,
   "id": "8d504288",
   "metadata": {
    "scrolled": false
   },
   "outputs": [],
   "source": [
    "# importing libraries\n",
    "import pandas as pd\n",
    "import numpy as np\n",
    "import statsmodels.api as sm\n",
    "import statsmodels.formula.api as smf\n",
    "from lifelines import KaplanMeierFitter\n",
    "from lifelines import CoxPHFitter\n",
    "import matplotlib.pyplot as plt\n",
    "from statsmodels.stats.meta_analysis import (\n",
    "    effectsize_smd,\n",
    "    effectsize_2proportions,\n",
    "    combine_effects,\n",
    "    _fit_tau_iterative,\n",
    "    _fit_tau_mm,\n",
    "    _fit_tau_iter_mm,\n",
    ")\n"
   ]
  },
  {
   "cell_type": "markdown",
   "id": "34113770",
   "metadata": {},
   "source": [
    "### Braun study"
   ]
  },
  {
   "cell_type": "code",
   "execution_count": 131,
   "id": "445575e5",
   "metadata": {
    "scrolled": true
   },
   "outputs": [],
   "source": [
    "## Braun \n",
    "# clinicopathological characteristics  \n",
    "dat_sample_braun = pd.read_csv('ICB_Braun_coldata.tsv', sep='\\t')\n",
    "\n",
    "# gene meta data\n",
    "dat_gene_braun = pd.read_csv('ICB_Braun_expr_genes.tsv', sep='\\t')\n",
    "\n",
    "# RNA-seq expression data (i.e., log2(TPM + 0.001)) \n",
    "dat_exp_braun = pd.read_csv('ICB_Braun_expr.tsv', sep='\\t')\n",
    "\n",
    "# Get the subset of data with both clinical and expression data.\n",
    "dat_sample_braun_subset = dat_sample_braun.loc[dat_exp_braun.columns.values.tolist(), ]"
   ]
  },
  {
   "cell_type": "markdown",
   "id": "fd7724af",
   "metadata": {},
   "source": [
    "### Nathanson study"
   ]
  },
  {
   "cell_type": "code",
   "execution_count": 132,
   "id": "ac61b79d",
   "metadata": {},
   "outputs": [],
   "source": [
    "## Nathanson \n",
    "# clinicopathological characteristics  \n",
    "dat_sample_nathanson = pd.read_csv('ICB_Nathanson_coldata.tsv', sep='\\t')\n",
    "\n",
    "# gene meta data\n",
    "dat_gene_nathanson = pd.read_csv('ICB_Nathanson_expr_genes.tsv', sep='\\t')\n",
    "\n",
    "# RNA-seq expression data (i.e., log2(TPM + 0.001)) \n",
    "dat_exp_nathanson = pd.read_csv('ICB_Nathanson_expr.tsv', sep='\\t')\n",
    "\n",
    "# Get the subset of data with both clinical and expression data.\n",
    "dat_sample_nathanson_subset = dat_sample_nathanson.loc[dat_exp_nathanson.columns.values.tolist(), ]"
   ]
  },
  {
   "cell_type": "markdown",
   "id": "2db1c6f9",
   "metadata": {},
   "source": [
    "### Snyder study"
   ]
  },
  {
   "cell_type": "code",
   "execution_count": 133,
   "id": "2c0d6bb0",
   "metadata": {},
   "outputs": [],
   "source": [
    "## Snyder\n",
    "# clinicopathological characteristics  \n",
    "dat_sample_snyder = pd.read_csv('ICB_Snyder_coldata.tsv', sep='\\t')\n",
    "\n",
    "# gene meta data\n",
    "dat_gene_snyder = pd.read_csv('ICB_Snyder_expr_genes.tsv', sep='\\t')\n",
    "\n",
    "# RNA-seq expression data (i.e., log2(TPM + 0.001)) \n",
    "dat_exp_snyder = pd.read_csv('ICB_Snyder_expr.tsv', sep='\\t')\n",
    "\n",
    "# Get the subset of data with both clinical and expression data.\n",
    "dat_sample_snyder_subset = dat_sample_snyder.loc[dat_exp_snyder.columns.values.tolist(), ]\n"
   ]
  },
  {
   "cell_type": "markdown",
   "id": "501b6343",
   "metadata": {},
   "source": [
    "### Van Allen study"
   ]
  },
  {
   "cell_type": "code",
   "execution_count": 83,
   "id": "b5dda480",
   "metadata": {},
   "outputs": [],
   "source": [
    "\n",
    "## Van_Allen \n",
    "# clinicopathological characteristics  \n",
    "dat_sample_van_allen = pd.read_csv('ICB_Van_Allen_coldata.tsv', sep='\\t')\n",
    "\n",
    "# gene meta data\n",
    "dat_gene_van_allen = pd.read_csv('ICB_Van_Allen_expr_genes.tsv', sep='\\t')\n",
    "\n",
    "# RNA-seq expression data (i.e., log2(TPM + 0.001)) \n",
    "dat_exp_van_allen = pd.read_csv('ICB_Van_Allen_expr.tsv', sep='\\t')\n",
    "\n",
    "# Get the subset of data with both clinical and expression data.\n",
    "dat_sample_van_allen_subset = dat_sample_van_allen.loc[dat_exp_van_allen.columns.values.tolist(), ]\n"
   ]
  },
  {
   "cell_type": "markdown",
   "id": "8d942808",
   "metadata": {},
   "source": [
    "## Survival analysis\n",
    "\n",
    "To assess the association between genes and time-to-event variable (e.g., OS), we fit the Cox regression model. For a given gene, we fit the model under each study to identify the log(HR) and its standard error (SE)."
   ]
  },
  {
   "cell_type": "code",
   "execution_count": 134,
   "id": "8dff3113",
   "metadata": {},
   "outputs": [],
   "source": [
    "# Braun \n",
    "\n",
    "x = dat_exp_braun.transpose()\n",
    "x_subset = x.loc[:, \"ENSG00000000457.9\"]\n",
    "\n",
    "df = pd.DataFrame({\n",
    "    'T': dat_sample_braun_subset[\"t.os\"],\n",
    "    'E': dat_sample_braun_subset[\"os\"],\n",
    "    'exp': x_subset,\n",
    "})\n",
    "\n",
    "cph = CoxPHFitter()\n",
    "cph.fit(df, 'T', 'E')\n",
    "\n",
    "res_braun = [\"Braun\", \n",
    "             len(x_subset),\n",
    "             round(cph.params_[\"exp\"], 4), \n",
    "             round(cph.standard_errors_[\"exp\"],4),\n",
    "             round(pow(cph.standard_errors_[\"exp\"], 2), 4)]\n",
    "\n",
    "\n",
    "# Nathanson \n",
    "\n",
    "x = dat_exp_nathanson.transpose()\n",
    "x_subset = x.loc[:, \"ENSG00000000457.9\"]\n",
    "\n",
    "df = pd.DataFrame({\n",
    "    'T': dat_sample_nathanson_subset[\"t.os\"],\n",
    "    'E': dat_sample_nathanson_subset[\"os\"],\n",
    "    'exp': x_subset,\n",
    "})\n",
    "\n",
    "cph = CoxPHFitter()\n",
    "cph.fit(df, 'T', 'E')\n",
    "\n",
    "res_nathanson = [\"Nathanson\",\n",
    "                 len(x_subset),\n",
    "                 round(cph.params_[\"exp\"], 4), \n",
    "                 round(cph.standard_errors_[\"exp\"], 4),\n",
    "                 round(pow(cph.standard_errors_[\"exp\"], 2), 4)]\n",
    "\n",
    "\n",
    "\n",
    "# Snyder\n",
    "\n",
    "x = dat_exp_snyder.transpose()\n",
    "x_subset = x.loc[:, \"ENSG00000000457.9\"]\n",
    "\n",
    "df = pd.DataFrame({\n",
    "    'T': dat_sample_snyder_subset[\"t.os\"],\n",
    "    'E': dat_sample_snyder_subset[\"os\"],\n",
    "    'exp': x_subset,\n",
    "})\n",
    "\n",
    "cph = CoxPHFitter()\n",
    "cph.fit(df, 'T', 'E')\n",
    "\n",
    "res_snyder = [\"Snyder\", \n",
    "              len(x_subset),\n",
    "              round(cph.params_[\"exp\"], 4), \n",
    "              round(cph.standard_errors_[\"exp\"], 4),\n",
    "              round(pow(cph.standard_errors_[\"exp\"], 2), 4)]\n",
    "\n",
    "\n",
    "# Van Allen \n",
    "\n",
    "x = dat_exp_van_allen.transpose()\n",
    "x_subset = x.loc[:, \"ENSG00000000457.9\"]\n",
    "\n",
    "df = pd.DataFrame({\n",
    "    'T': dat_sample_van_allen_subset[\"t.os\"],\n",
    "    'E': dat_sample_van_allen_subset[\"os\"],\n",
    "    'exp': x_subset,\n",
    "})\n",
    "\n",
    "cph = CoxPHFitter()\n",
    "cph.fit(df, 'T', 'E')\n",
    "\n",
    "res_van_allen = [\"Van_Allen\", \n",
    "                 len(x_subset),\n",
    "                 round(cph.params_[\"exp\"], 4), \n",
    "                 round(cph.standard_errors_[\"exp\"], 4),\n",
    "                 round(pow(cph.standard_errors_[\"exp\"], 2), 4)]\n",
    "\n"
   ]
  },
  {
   "cell_type": "markdown",
   "id": "ea97e596",
   "metadata": {},
   "source": [
    "## Meta-analysis \n",
    "\n",
    "Meta-analyses can be performed to integrate independent studies to identify more reliable findings by increasing statistical power and reducing false positives. The strengths and limitations of meta-analyses are\n",
    "evaluated particularly with respect to their ability to assess variation across studies or heterogeneity. Several meta-analysis methods have been proposed such as combining p-values, combining effect estimates, and rankings. \n",
    "\n",
    "Approaches that combine effects including fixed- and random-effects (FE & RE) models are widely used to achieve a broad inferential basis for evaluations of effects. Under the FE model, we assume that there is one true effect that underlies all the studies in the analysis, and that all differences in\n",
    "observed effects are due to sampling error. In contrast, the RE model incorporates the variability of the effects across studies in addition to the within-study variability using a two-stage hierarchical process. \n",
    "\n",
    "Assessing heterogeneity is a critical issue in meta-analysis because different models may lead to different estimates of overall effect and different standard errors.Several approaches have been suggested over the years for how best to assess homogeneity across studies, and the corresponding research is ongoing. erSimonian and Laird (DL) (or chi2) is widely used to assess the hetergeneity. \n"
   ]
  },
  {
   "cell_type": "code",
   "execution_count": 124,
   "id": "9982d228",
   "metadata": {
    "scrolled": true
   },
   "outputs": [
    {
     "name": "stdout",
     "output_type": "stream",
     "text": [
      "[-0.2402  0.1721 -0.5165  0.0832]\n",
      "[0.0384 0.4598 0.0886 0.1391]\n"
     ]
    }
   ],
   "source": [
    "data = [\n",
    "        res_braun,\n",
    "        res_nathanson,\n",
    "        res_snyder,\n",
    "        res_van_allen,\n",
    "]\n",
    "\n",
    "colnames = [\"study\",\"n\", \"logHR\", \"SE\", \"Var\"]\n",
    "rownames = [i[0] for i in data]\n",
    "dframe1 = pd.DataFrame(data, columns=colnames)\n",
    "rownames\n",
    "\n",
    "eff = [row[2] for row in data]\n",
    "eff = np.array(eff)\n",
    "print(eff)\n",
    "\n",
    "var_eff = [row[4] for row in data]\n",
    "var_eff = np.array(var_eff)\n",
    "print(var_eff)\n"
   ]
  },
  {
   "cell_type": "code",
   "execution_count": 128,
   "id": "e9f35f0a",
   "metadata": {
    "scrolled": false
   },
   "outputs": [
    {
     "name": "stdout",
     "output_type": "stream",
     "text": [
      "                        eff    sd_eff    ci_low    ci_upp      w_fe      w_re\n",
      "Braun             -0.240200  0.195959 -0.624273  0.143873  0.557730  0.931204\n",
      "Nathanson          0.172100  0.678086 -1.156923  1.501123  0.046579  0.005223\n",
      "Snyder            -0.516500  0.297658 -1.099898  0.066898  0.241725  0.042099\n",
      "Van_Allen          0.083200  0.372961 -0.647790  0.814190  0.153967  0.021474\n",
      "fixed effect      -0.237991  0.146345 -0.524822  0.048839  1.000000       NaN\n",
      "random effect     -0.242734  0.047047 -0.334945 -0.150523       NaN  1.000000\n",
      "fixed effect wls  -0.237991  0.118981 -0.471191 -0.004792  1.000000       NaN\n",
      "random effect wls -0.242734  0.045975 -0.332844 -0.152624       NaN  1.000000\n"
     ]
    }
   ],
   "source": [
    "res3 = combine_effects(eff, var_eff, method_re = \"chi2\", row_names = rownames)\n",
    "\n",
    "print(res3.summary_frame())\n"
   ]
  },
  {
   "cell_type": "code",
   "execution_count": 129,
   "id": "dc50c689",
   "metadata": {},
   "outputs": [
    {
     "data": {
      "image/png": "[encoded data removed]",
      "text/plain": [
       "<Figure size 432x288 with 1 Axes>"
      ]
     },
     "metadata": {
      "needs_background": "light"
     },
     "output_type": "display_data"
    }
   ],
   "source": [
    "# forestplot\n",
    "\n",
    "fig = res3.plot_forest()"
   ]
  },
  {
   "cell_type": "code",
   "execution_count": null,
   "id": "7bdb25b5",
   "metadata": {},
   "outputs": [],
   "source": []
  }
 ],
 "metadata": {
  "kernelspec": {
   "display_name": "Python 3 (ipykernel)",
   "language": "python",
   "name": "python3"
  },
  "language_info": {
   "codemirror_mode": {
    "name": "ipython",
    "version": 3
   },
   "file_extension": ".py",
   "mimetype": "text/x-python",
   "name": "python",
   "nbconvert_exporter": "python",
   "pygments_lexer": "ipython3",
   "version": "3.9.12"
  }
 },
 "nbformat": 4,
 "nbformat_minor": 5
}
