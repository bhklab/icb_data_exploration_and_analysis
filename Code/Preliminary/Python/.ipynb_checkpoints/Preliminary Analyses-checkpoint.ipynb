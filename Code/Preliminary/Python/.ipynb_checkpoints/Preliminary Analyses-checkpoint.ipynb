{
 "cells": [
  {
   "cell_type": "markdown",
   "id": "5c9e6acb",
   "metadata": {},
   "source": [
    "# Immune-checkpoint blockade (ICB) data\n",
    "\n",
    "## Load data\n",
    "Read RNA-seq expression, clinicopathological characteristics, and gene meta data for ICB Braun data with PMID 32472114. \n",
    "\n",
    "Note the expression data is log2(TPM + 0.001), where TPM represents transcripts per million.    "
   ]
  },
  {
   "cell_type": "code",
   "execution_count": 534,
   "id": "8d504288",
   "metadata": {
    "scrolled": false
   },
   "outputs": [],
   "source": [
    "# importing libraries\n",
    "import pandas as pd\n",
    "import numpy as np\n",
    "import statsmodels.api as sm\n",
    "import statsmodels.formula.api as smf\n",
    "from lifelines import KaplanMeierFitter\n",
    "from lifelines import CoxPHFitter\n",
    "import matplotlib.pyplot as plt\n",
    "from scipy.stats import chi2_contingency"
   ]
  },
  {
   "cell_type": "code",
   "execution_count": 476,
   "id": "445575e5",
   "metadata": {
    "scrolled": false
   },
   "outputs": [
    {
     "data": {
      "text/html": [
       "<div>\n",
       "<style scoped>\n",
       "    .dataframe tbody tr th:only-of-type {\n",
       "        vertical-align: middle;\n",
       "    }\n",
       "\n",
       "    .dataframe tbody tr th {\n",
       "        vertical-align: top;\n",
       "    }\n",
       "\n",
       "    .dataframe thead th {\n",
       "        text-align: right;\n",
       "    }\n",
       "</style>\n",
       "<table border=\"1\" class=\"dataframe\">\n",
       "  <thead>\n",
       "    <tr style=\"text-align: right;\">\n",
       "      <th></th>\n",
       "      <th>unique_patient_ID</th>\n",
       "      <th>sex</th>\n",
       "      <th>age</th>\n",
       "      <th>cancer_type</th>\n",
       "      <th>histo</th>\n",
       "      <th>stage</th>\n",
       "      <th>response.other.info</th>\n",
       "      <th>recist</th>\n",
       "      <th>response</th>\n",
       "      <th>treatment</th>\n",
       "      <th>...</th>\n",
       "      <th>VHL</th>\n",
       "      <th>WNT8A</th>\n",
       "      <th>ZNF800</th>\n",
       "      <th>Angio</th>\n",
       "      <th>Teff</th>\n",
       "      <th>Myeloid</th>\n",
       "      <th>Javelin</th>\n",
       "      <th>Merck18</th>\n",
       "      <th>survival_unit</th>\n",
       "      <th>survival_type</th>\n",
       "    </tr>\n",
       "  </thead>\n",
       "  <tbody>\n",
       "    <tr>\n",
       "      <th>RCC_1</th>\n",
       "      <td>RCC_1</td>\n",
       "      <td>F</td>\n",
       "      <td>49.0</td>\n",
       "      <td>Kidney</td>\n",
       "      <td>NaN</td>\n",
       "      <td>NaN</td>\n",
       "      <td>NaN</td>\n",
       "      <td>PD</td>\n",
       "      <td>NR</td>\n",
       "      <td>PD-1/PD-L1</td>\n",
       "      <td>...</td>\n",
       "      <td>WT</td>\n",
       "      <td>WT</td>\n",
       "      <td>WT</td>\n",
       "      <td>NaN</td>\n",
       "      <td>NaN</td>\n",
       "      <td>NaN</td>\n",
       "      <td>NaN</td>\n",
       "      <td>NaN</td>\n",
       "      <td>month</td>\n",
       "      <td>PFS</td>\n",
       "    </tr>\n",
       "    <tr>\n",
       "      <th>RCC_10</th>\n",
       "      <td>RCC_10</td>\n",
       "      <td>F</td>\n",
       "      <td>64.0</td>\n",
       "      <td>Kidney</td>\n",
       "      <td>NaN</td>\n",
       "      <td>NaN</td>\n",
       "      <td>NaN</td>\n",
       "      <td>SD</td>\n",
       "      <td>NaN</td>\n",
       "      <td>PD-1/PD-L1</td>\n",
       "      <td>...</td>\n",
       "      <td>MUT</td>\n",
       "      <td>WT</td>\n",
       "      <td>WT</td>\n",
       "      <td>NaN</td>\n",
       "      <td>NaN</td>\n",
       "      <td>NaN</td>\n",
       "      <td>NaN</td>\n",
       "      <td>NaN</td>\n",
       "      <td>month</td>\n",
       "      <td>PFS</td>\n",
       "    </tr>\n",
       "    <tr>\n",
       "      <th>RCC_102</th>\n",
       "      <td>RCC_102</td>\n",
       "      <td>F</td>\n",
       "      <td>64.0</td>\n",
       "      <td>Kidney</td>\n",
       "      <td>NaN</td>\n",
       "      <td>NaN</td>\n",
       "      <td>NaN</td>\n",
       "      <td>SD</td>\n",
       "      <td>NR</td>\n",
       "      <td>PD-1/PD-L1</td>\n",
       "      <td>...</td>\n",
       "      <td>WT</td>\n",
       "      <td>WT</td>\n",
       "      <td>WT</td>\n",
       "      <td>35.570275</td>\n",
       "      <td>30.038614</td>\n",
       "      <td>30.284130</td>\n",
       "      <td>30.142362</td>\n",
       "      <td>32.182083</td>\n",
       "      <td>month</td>\n",
       "      <td>PFS</td>\n",
       "    </tr>\n",
       "    <tr>\n",
       "      <th>RCC_105</th>\n",
       "      <td>RCC_105</td>\n",
       "      <td>F</td>\n",
       "      <td>64.0</td>\n",
       "      <td>Kidney</td>\n",
       "      <td>NaN</td>\n",
       "      <td>NaN</td>\n",
       "      <td>NaN</td>\n",
       "      <td>PD</td>\n",
       "      <td>NR</td>\n",
       "      <td>PD-1/PD-L1</td>\n",
       "      <td>...</td>\n",
       "      <td>WT</td>\n",
       "      <td>WT</td>\n",
       "      <td>WT</td>\n",
       "      <td>33.335166</td>\n",
       "      <td>27.763485</td>\n",
       "      <td>30.197198</td>\n",
       "      <td>28.120986</td>\n",
       "      <td>30.159456</td>\n",
       "      <td>month</td>\n",
       "      <td>PFS</td>\n",
       "    </tr>\n",
       "    <tr>\n",
       "      <th>RCC_106</th>\n",
       "      <td>RCC_106</td>\n",
       "      <td>F</td>\n",
       "      <td>61.0</td>\n",
       "      <td>Kidney</td>\n",
       "      <td>NaN</td>\n",
       "      <td>NaN</td>\n",
       "      <td>NaN</td>\n",
       "      <td>PR</td>\n",
       "      <td>R</td>\n",
       "      <td>PD-1/PD-L1</td>\n",
       "      <td>...</td>\n",
       "      <td>MUT</td>\n",
       "      <td>WT</td>\n",
       "      <td>WT</td>\n",
       "      <td>35.629600</td>\n",
       "      <td>28.315512</td>\n",
       "      <td>29.686902</td>\n",
       "      <td>30.188104</td>\n",
       "      <td>31.707407</td>\n",
       "      <td>month</td>\n",
       "      <td>PFS</td>\n",
       "    </tr>\n",
       "  </tbody>\n",
       "</table>\n",
       "<p>5 rows × 143 columns</p>\n",
       "</div>"
      ],
      "text/plain": [
       "        unique_patient_ID sex   age cancer_type  histo  stage  \\\n",
       "RCC_1               RCC_1   F  49.0      Kidney    NaN    NaN   \n",
       "RCC_10             RCC_10   F  64.0      Kidney    NaN    NaN   \n",
       "RCC_102           RCC_102   F  64.0      Kidney    NaN    NaN   \n",
       "RCC_105           RCC_105   F  64.0      Kidney    NaN    NaN   \n",
       "RCC_106           RCC_106   F  61.0      Kidney    NaN    NaN   \n",
       "\n",
       "         response.other.info recist response   treatment  ...  VHL WNT8A  \\\n",
       "RCC_1                    NaN     PD       NR  PD-1/PD-L1  ...   WT    WT   \n",
       "RCC_10                   NaN     SD      NaN  PD-1/PD-L1  ...  MUT    WT   \n",
       "RCC_102                  NaN     SD       NR  PD-1/PD-L1  ...   WT    WT   \n",
       "RCC_105                  NaN     PD       NR  PD-1/PD-L1  ...   WT    WT   \n",
       "RCC_106                  NaN     PR        R  PD-1/PD-L1  ...  MUT    WT   \n",
       "\n",
       "         ZNF800      Angio       Teff    Myeloid    Javelin    Merck18  \\\n",
       "RCC_1        WT        NaN        NaN        NaN        NaN        NaN   \n",
       "RCC_10       WT        NaN        NaN        NaN        NaN        NaN   \n",
       "RCC_102      WT  35.570275  30.038614  30.284130  30.142362  32.182083   \n",
       "RCC_105      WT  33.335166  27.763485  30.197198  28.120986  30.159456   \n",
       "RCC_106      WT  35.629600  28.315512  29.686902  30.188104  31.707407   \n",
       "\n",
       "         survival_unit  survival_type  \n",
       "RCC_1            month            PFS  \n",
       "RCC_10           month            PFS  \n",
       "RCC_102          month            PFS  \n",
       "RCC_105          month            PFS  \n",
       "RCC_106          month            PFS  \n",
       "\n",
       "[5 rows x 143 columns]"
      ]
     },
     "execution_count": 476,
     "metadata": {},
     "output_type": "execute_result"
    }
   ],
   "source": [
    "# clinicopathological characteristics  \n",
    "dat_sample = pd.read_csv('ICB_Braun_coldata.tsv', sep='\\t')\n",
    "\n",
    "dat_sample.head()"
   ]
  },
  {
   "cell_type": "code",
   "execution_count": 477,
   "id": "545c261a",
   "metadata": {},
   "outputs": [
    {
     "data": {
      "text/plain": [
       "(319, 143)"
      ]
     },
     "execution_count": 477,
     "metadata": {},
     "output_type": "execute_result"
    }
   ],
   "source": [
    "dat_sample.shape"
   ]
  },
  {
   "cell_type": "code",
   "execution_count": 478,
   "id": "13aa63da",
   "metadata": {
    "scrolled": true
   },
   "outputs": [
    {
     "data": {
      "text/html": [
       "<div>\n",
       "<style scoped>\n",
       "    .dataframe tbody tr th:only-of-type {\n",
       "        vertical-align: middle;\n",
       "    }\n",
       "\n",
       "    .dataframe tbody tr th {\n",
       "        vertical-align: top;\n",
       "    }\n",
       "\n",
       "    .dataframe thead th {\n",
       "        text-align: right;\n",
       "    }\n",
       "</style>\n",
       "<table border=\"1\" class=\"dataframe\">\n",
       "  <thead>\n",
       "    <tr style=\"text-align: right;\">\n",
       "      <th></th>\n",
       "      <th>seqnames</th>\n",
       "      <th>start</th>\n",
       "      <th>end</th>\n",
       "      <th>width</th>\n",
       "      <th>strand</th>\n",
       "      <th>source</th>\n",
       "      <th>type</th>\n",
       "      <th>score</th>\n",
       "      <th>phase</th>\n",
       "      <th>gene_id</th>\n",
       "      <th>gene_type</th>\n",
       "      <th>gene_name</th>\n",
       "      <th>level</th>\n",
       "      <th>havana_gene</th>\n",
       "      <th>tag</th>\n",
       "      <th>gene_id_no_ver</th>\n",
       "      <th>length</th>\n",
       "    </tr>\n",
       "  </thead>\n",
       "  <tbody>\n",
       "    <tr>\n",
       "      <th>1</th>\n",
       "      <td>chr1</td>\n",
       "      <td>11869</td>\n",
       "      <td>14412</td>\n",
       "      <td>2544</td>\n",
       "      <td>+</td>\n",
       "      <td>HAVANA</td>\n",
       "      <td>gene</td>\n",
       "      <td>NaN</td>\n",
       "      <td>NaN</td>\n",
       "      <td>ENSG00000223972.4</td>\n",
       "      <td>pseudogene</td>\n",
       "      <td>DDX11L1</td>\n",
       "      <td>2</td>\n",
       "      <td>OTTHUMG00000000961.2</td>\n",
       "      <td>NaN</td>\n",
       "      <td>ENSG00000223972</td>\n",
       "      <td>NaN</td>\n",
       "    </tr>\n",
       "    <tr>\n",
       "      <th>2</th>\n",
       "      <td>chr1</td>\n",
       "      <td>135141</td>\n",
       "      <td>135895</td>\n",
       "      <td>755</td>\n",
       "      <td>-</td>\n",
       "      <td>HAVANA</td>\n",
       "      <td>gene</td>\n",
       "      <td>NaN</td>\n",
       "      <td>NaN</td>\n",
       "      <td>ENSG00000268903.1</td>\n",
       "      <td>pseudogene</td>\n",
       "      <td>RP11-34P13.15</td>\n",
       "      <td>2</td>\n",
       "      <td>OTTHUMG00000182518.2</td>\n",
       "      <td>NaN</td>\n",
       "      <td>ENSG00000268903</td>\n",
       "      <td>NaN</td>\n",
       "    </tr>\n",
       "    <tr>\n",
       "      <th>3</th>\n",
       "      <td>chr1</td>\n",
       "      <td>1631369</td>\n",
       "      <td>1633249</td>\n",
       "      <td>1881</td>\n",
       "      <td>+</td>\n",
       "      <td>HAVANA</td>\n",
       "      <td>gene</td>\n",
       "      <td>NaN</td>\n",
       "      <td>NaN</td>\n",
       "      <td>ENSG00000215914.3</td>\n",
       "      <td>pseudogene</td>\n",
       "      <td>MMP23A</td>\n",
       "      <td>2</td>\n",
       "      <td>OTTHUMG00000000585.5</td>\n",
       "      <td>NaN</td>\n",
       "      <td>ENSG00000215914</td>\n",
       "      <td>NaN</td>\n",
       "    </tr>\n",
       "    <tr>\n",
       "      <th>4</th>\n",
       "      <td>chr1</td>\n",
       "      <td>43803478</td>\n",
       "      <td>43818443</td>\n",
       "      <td>14966</td>\n",
       "      <td>+</td>\n",
       "      <td>HAVANA</td>\n",
       "      <td>gene</td>\n",
       "      <td>NaN</td>\n",
       "      <td>NaN</td>\n",
       "      <td>ENSG00000117400.10</td>\n",
       "      <td>protein_coding</td>\n",
       "      <td>MPL</td>\n",
       "      <td>2</td>\n",
       "      <td>OTTHUMG00000007429.1</td>\n",
       "      <td>NaN</td>\n",
       "      <td>ENSG00000117400</td>\n",
       "      <td>NaN</td>\n",
       "    </tr>\n",
       "    <tr>\n",
       "      <th>5</th>\n",
       "      <td>chr4</td>\n",
       "      <td>109571740</td>\n",
       "      <td>109588976</td>\n",
       "      <td>17237</td>\n",
       "      <td>+</td>\n",
       "      <td>HAVANA</td>\n",
       "      <td>gene</td>\n",
       "      <td>NaN</td>\n",
       "      <td>NaN</td>\n",
       "      <td>ENSG00000198856.8</td>\n",
       "      <td>protein_coding</td>\n",
       "      <td>OSTC</td>\n",
       "      <td>2</td>\n",
       "      <td>OTTHUMG00000161031.2</td>\n",
       "      <td>ncRNA_host</td>\n",
       "      <td>ENSG00000198856</td>\n",
       "      <td>NaN</td>\n",
       "    </tr>\n",
       "  </tbody>\n",
       "</table>\n",
       "</div>"
      ],
      "text/plain": [
       "  seqnames      start        end  width strand  source  type  score  phase  \\\n",
       "1     chr1      11869      14412   2544      +  HAVANA  gene    NaN    NaN   \n",
       "2     chr1     135141     135895    755      -  HAVANA  gene    NaN    NaN   \n",
       "3     chr1    1631369    1633249   1881      +  HAVANA  gene    NaN    NaN   \n",
       "4     chr1   43803478   43818443  14966      +  HAVANA  gene    NaN    NaN   \n",
       "5     chr4  109571740  109588976  17237      +  HAVANA  gene    NaN    NaN   \n",
       "\n",
       "              gene_id       gene_type      gene_name  level  \\\n",
       "1   ENSG00000223972.4      pseudogene        DDX11L1      2   \n",
       "2   ENSG00000268903.1      pseudogene  RP11-34P13.15      2   \n",
       "3   ENSG00000215914.3      pseudogene         MMP23A      2   \n",
       "4  ENSG00000117400.10  protein_coding            MPL      2   \n",
       "5   ENSG00000198856.8  protein_coding           OSTC      2   \n",
       "\n",
       "            havana_gene         tag   gene_id_no_ver  length  \n",
       "1  OTTHUMG00000000961.2         NaN  ENSG00000223972     NaN  \n",
       "2  OTTHUMG00000182518.2         NaN  ENSG00000268903     NaN  \n",
       "3  OTTHUMG00000000585.5         NaN  ENSG00000215914     NaN  \n",
       "4  OTTHUMG00000007429.1         NaN  ENSG00000117400     NaN  \n",
       "5  OTTHUMG00000161031.2  ncRNA_host  ENSG00000198856     NaN  "
      ]
     },
     "execution_count": 478,
     "metadata": {},
     "output_type": "execute_result"
    }
   ],
   "source": [
    "# gene meta data\n",
    "dat_gene = pd.read_csv('ICB_Braun_expr_genes.tsv', sep='\\t')\n",
    "\n",
    "dat_gene.head()"
   ]
  },
  {
   "cell_type": "code",
   "execution_count": 479,
   "id": "25b4a3be",
   "metadata": {},
   "outputs": [
    {
     "data": {
      "text/plain": [
       "(40994, 17)"
      ]
     },
     "execution_count": 479,
     "metadata": {},
     "output_type": "execute_result"
    }
   ],
   "source": [
    "dat_gene.shape"
   ]
  },
  {
   "cell_type": "code",
   "execution_count": 480,
   "id": "d72d28f2",
   "metadata": {},
   "outputs": [
    {
     "data": {
      "text/html": [
       "<div>\n",
       "<style scoped>\n",
       "    .dataframe tbody tr th:only-of-type {\n",
       "        vertical-align: middle;\n",
       "    }\n",
       "\n",
       "    .dataframe tbody tr th {\n",
       "        vertical-align: top;\n",
       "    }\n",
       "\n",
       "    .dataframe thead th {\n",
       "        text-align: right;\n",
       "    }\n",
       "</style>\n",
       "<table border=\"1\" class=\"dataframe\">\n",
       "  <thead>\n",
       "    <tr style=\"text-align: right;\">\n",
       "      <th></th>\n",
       "      <th>RCC25_677</th>\n",
       "      <th>RCC25_582</th>\n",
       "      <th>RCC25_678</th>\n",
       "      <th>RCC25_7</th>\n",
       "      <th>RCC25_624</th>\n",
       "      <th>RCC25_982</th>\n",
       "      <th>RCC25_646</th>\n",
       "      <th>RCC25_493</th>\n",
       "      <th>RCC25_272</th>\n",
       "      <th>RCC25_465</th>\n",
       "      <th>...</th>\n",
       "      <th>RCC_18</th>\n",
       "      <th>RCC_21</th>\n",
       "      <th>RCC_27</th>\n",
       "      <th>RCC_41</th>\n",
       "      <th>RCC_50</th>\n",
       "      <th>RCC_73</th>\n",
       "      <th>RCC_90</th>\n",
       "      <th>RCC_93</th>\n",
       "      <th>RCC_96</th>\n",
       "      <th>RCC_99</th>\n",
       "    </tr>\n",
       "  </thead>\n",
       "  <tbody>\n",
       "    <tr>\n",
       "      <th>ENSG00000000003.10</th>\n",
       "      <td>30.505120</td>\n",
       "      <td>32.553160</td>\n",
       "      <td>32.559420</td>\n",
       "      <td>32.534370</td>\n",
       "      <td>30.768170</td>\n",
       "      <td>32.744900</td>\n",
       "      <td>32.283620</td>\n",
       "      <td>31.550420</td>\n",
       "      <td>31.454450</td>\n",
       "      <td>31.146140</td>\n",
       "      <td>...</td>\n",
       "      <td>33.116670</td>\n",
       "      <td>30.961900</td>\n",
       "      <td>31.670000</td>\n",
       "      <td>31.449420</td>\n",
       "      <td>30.950210</td>\n",
       "      <td>32.059140</td>\n",
       "      <td>33.429040</td>\n",
       "      <td>32.396100</td>\n",
       "      <td>30.768670</td>\n",
       "      <td>30.971060</td>\n",
       "    </tr>\n",
       "    <tr>\n",
       "      <th>ENSG00000000005.5</th>\n",
       "      <td>22.021540</td>\n",
       "      <td>27.112060</td>\n",
       "      <td>26.941130</td>\n",
       "      <td>21.361809</td>\n",
       "      <td>28.213150</td>\n",
       "      <td>28.688240</td>\n",
       "      <td>25.561920</td>\n",
       "      <td>23.579830</td>\n",
       "      <td>27.513790</td>\n",
       "      <td>24.469540</td>\n",
       "      <td>...</td>\n",
       "      <td>23.292870</td>\n",
       "      <td>23.292870</td>\n",
       "      <td>23.292870</td>\n",
       "      <td>23.292870</td>\n",
       "      <td>23.292870</td>\n",
       "      <td>30.296130</td>\n",
       "      <td>31.298470</td>\n",
       "      <td>23.292870</td>\n",
       "      <td>23.292870</td>\n",
       "      <td>23.292870</td>\n",
       "    </tr>\n",
       "    <tr>\n",
       "      <th>ENSG00000000419.8</th>\n",
       "      <td>34.620490</td>\n",
       "      <td>33.999030</td>\n",
       "      <td>35.022040</td>\n",
       "      <td>35.510050</td>\n",
       "      <td>34.629310</td>\n",
       "      <td>34.437100</td>\n",
       "      <td>34.701670</td>\n",
       "      <td>35.732630</td>\n",
       "      <td>34.384040</td>\n",
       "      <td>34.760230</td>\n",
       "      <td>...</td>\n",
       "      <td>34.797140</td>\n",
       "      <td>34.420790</td>\n",
       "      <td>33.762510</td>\n",
       "      <td>34.607440</td>\n",
       "      <td>33.603170</td>\n",
       "      <td>34.184280</td>\n",
       "      <td>36.150720</td>\n",
       "      <td>34.404340</td>\n",
       "      <td>34.374910</td>\n",
       "      <td>35.113900</td>\n",
       "    </tr>\n",
       "    <tr>\n",
       "      <th>ENSG00000000457.9</th>\n",
       "      <td>30.994360</td>\n",
       "      <td>31.052770</td>\n",
       "      <td>30.568370</td>\n",
       "      <td>31.312370</td>\n",
       "      <td>31.009620</td>\n",
       "      <td>30.926620</td>\n",
       "      <td>31.310410</td>\n",
       "      <td>32.473150</td>\n",
       "      <td>30.299040</td>\n",
       "      <td>30.832610</td>\n",
       "      <td>...</td>\n",
       "      <td>30.838030</td>\n",
       "      <td>31.657010</td>\n",
       "      <td>31.067290</td>\n",
       "      <td>30.794590</td>\n",
       "      <td>30.324540</td>\n",
       "      <td>30.136810</td>\n",
       "      <td>31.331730</td>\n",
       "      <td>30.423840</td>\n",
       "      <td>31.009190</td>\n",
       "      <td>30.777810</td>\n",
       "    </tr>\n",
       "    <tr>\n",
       "      <th>ENSG00000000460.12</th>\n",
       "      <td>32.840623</td>\n",
       "      <td>31.916146</td>\n",
       "      <td>30.487933</td>\n",
       "      <td>31.919557</td>\n",
       "      <td>32.130353</td>\n",
       "      <td>31.420439</td>\n",
       "      <td>32.864445</td>\n",
       "      <td>32.042597</td>\n",
       "      <td>30.932105</td>\n",
       "      <td>32.271196</td>\n",
       "      <td>...</td>\n",
       "      <td>29.839717</td>\n",
       "      <td>32.091262</td>\n",
       "      <td>31.540874</td>\n",
       "      <td>30.575225</td>\n",
       "      <td>31.542232</td>\n",
       "      <td>31.880173</td>\n",
       "      <td>32.646188</td>\n",
       "      <td>31.376367</td>\n",
       "      <td>32.155486</td>\n",
       "      <td>32.642099</td>\n",
       "    </tr>\n",
       "  </tbody>\n",
       "</table>\n",
       "<p>5 rows × 181 columns</p>\n",
       "</div>"
      ],
      "text/plain": [
       "                    RCC25_677  RCC25_582  RCC25_678    RCC25_7  RCC25_624  \\\n",
       "ENSG00000000003.10  30.505120  32.553160  32.559420  32.534370  30.768170   \n",
       "ENSG00000000005.5   22.021540  27.112060  26.941130  21.361809  28.213150   \n",
       "ENSG00000000419.8   34.620490  33.999030  35.022040  35.510050  34.629310   \n",
       "ENSG00000000457.9   30.994360  31.052770  30.568370  31.312370  31.009620   \n",
       "ENSG00000000460.12  32.840623  31.916146  30.487933  31.919557  32.130353   \n",
       "\n",
       "                    RCC25_982  RCC25_646  RCC25_493  RCC25_272  RCC25_465  \\\n",
       "ENSG00000000003.10  32.744900  32.283620  31.550420  31.454450  31.146140   \n",
       "ENSG00000000005.5   28.688240  25.561920  23.579830  27.513790  24.469540   \n",
       "ENSG00000000419.8   34.437100  34.701670  35.732630  34.384040  34.760230   \n",
       "ENSG00000000457.9   30.926620  31.310410  32.473150  30.299040  30.832610   \n",
       "ENSG00000000460.12  31.420439  32.864445  32.042597  30.932105  32.271196   \n",
       "\n",
       "                    ...     RCC_18     RCC_21     RCC_27     RCC_41  \\\n",
       "ENSG00000000003.10  ...  33.116670  30.961900  31.670000  31.449420   \n",
       "ENSG00000000005.5   ...  23.292870  23.292870  23.292870  23.292870   \n",
       "ENSG00000000419.8   ...  34.797140  34.420790  33.762510  34.607440   \n",
       "ENSG00000000457.9   ...  30.838030  31.657010  31.067290  30.794590   \n",
       "ENSG00000000460.12  ...  29.839717  32.091262  31.540874  30.575225   \n",
       "\n",
       "                       RCC_50     RCC_73     RCC_90     RCC_93     RCC_96  \\\n",
       "ENSG00000000003.10  30.950210  32.059140  33.429040  32.396100  30.768670   \n",
       "ENSG00000000005.5   23.292870  30.296130  31.298470  23.292870  23.292870   \n",
       "ENSG00000000419.8   33.603170  34.184280  36.150720  34.404340  34.374910   \n",
       "ENSG00000000457.9   30.324540  30.136810  31.331730  30.423840  31.009190   \n",
       "ENSG00000000460.12  31.542232  31.880173  32.646188  31.376367  32.155486   \n",
       "\n",
       "                       RCC_99  \n",
       "ENSG00000000003.10  30.971060  \n",
       "ENSG00000000005.5   23.292870  \n",
       "ENSG00000000419.8   35.113900  \n",
       "ENSG00000000457.9   30.777810  \n",
       "ENSG00000000460.12  32.642099  \n",
       "\n",
       "[5 rows x 181 columns]"
      ]
     },
     "execution_count": 480,
     "metadata": {},
     "output_type": "execute_result"
    }
   ],
   "source": [
    "# RNA-seq expression data (i.e., log2(TPM + 0.001)) \n",
    "dat_exp = pd.read_csv('ICB_Braun_expr.tsv', sep='\\t')\n",
    "\n",
    "dat_exp.head()"
   ]
  },
  {
   "cell_type": "code",
   "execution_count": 481,
   "id": "2230c854",
   "metadata": {},
   "outputs": [
    {
     "data": {
      "text/plain": [
       "(40994, 181)"
      ]
     },
     "execution_count": 481,
     "metadata": {},
     "output_type": "execute_result"
    }
   ],
   "source": [
    "dat_exp.shape"
   ]
  },
  {
   "cell_type": "code",
   "execution_count": 482,
   "id": "71020a18",
   "metadata": {},
   "outputs": [
    {
     "data": {
      "text/plain": [
       "(181, 143)"
      ]
     },
     "execution_count": 482,
     "metadata": {},
     "output_type": "execute_result"
    }
   ],
   "source": [
    "# Get the subset of data with both clinical and expression data.\n",
    "\n",
    "dat_sample_subset = dat_sample.loc[dat_exp.columns.values.tolist(), ]\n",
    "dat_sample_subset.shape\n"
   ]
  },
  {
   "cell_type": "markdown",
   "id": "e2c30e3b",
   "metadata": {},
   "source": [
    "## Clinical data summary\n",
    "\n",
    "The detailed clinicopathological characteristics of the Braun cohort including cancer type, age, sex, respose, overall survival (OS), and progression-free survival (PFS). "
   ]
  },
  {
   "cell_type": "code",
   "execution_count": 483,
   "id": "4e6c9687",
   "metadata": {
    "scrolled": true
   },
   "outputs": [
    {
     "data": {
      "text/html": [
       "<div>\n",
       "<style scoped>\n",
       "    .dataframe tbody tr th:only-of-type {\n",
       "        vertical-align: middle;\n",
       "    }\n",
       "\n",
       "    .dataframe tbody tr th {\n",
       "        vertical-align: top;\n",
       "    }\n",
       "\n",
       "    .dataframe thead th {\n",
       "        text-align: right;\n",
       "    }\n",
       "</style>\n",
       "<table border=\"1\" class=\"dataframe\">\n",
       "  <thead>\n",
       "    <tr style=\"text-align: right;\">\n",
       "      <th></th>\n",
       "      <th>age</th>\n",
       "      <th>t.os</th>\n",
       "      <th>survival_time</th>\n",
       "    </tr>\n",
       "  </thead>\n",
       "  <tbody>\n",
       "    <tr>\n",
       "      <th>count</th>\n",
       "      <td>180.000000</td>\n",
       "      <td>181.000000</td>\n",
       "      <td>181.000000</td>\n",
       "    </tr>\n",
       "    <tr>\n",
       "      <th>mean</th>\n",
       "      <td>61.327778</td>\n",
       "      <td>28.519316</td>\n",
       "      <td>8.480699</td>\n",
       "    </tr>\n",
       "    <tr>\n",
       "      <th>median</th>\n",
       "      <td>62.000000</td>\n",
       "      <td>22.439425</td>\n",
       "      <td>3.712526</td>\n",
       "    </tr>\n",
       "    <tr>\n",
       "      <th>std</th>\n",
       "      <td>10.977799</td>\n",
       "      <td>21.475065</td>\n",
       "      <td>12.378719</td>\n",
       "    </tr>\n",
       "    <tr>\n",
       "      <th>min</th>\n",
       "      <td>30.000000</td>\n",
       "      <td>0.295688</td>\n",
       "      <td>0.032854</td>\n",
       "    </tr>\n",
       "    <tr>\n",
       "      <th>max</th>\n",
       "      <td>88.000000</td>\n",
       "      <td>73.150685</td>\n",
       "      <td>61.906849</td>\n",
       "    </tr>\n",
       "  </tbody>\n",
       "</table>\n",
       "</div>"
      ],
      "text/plain": [
       "               age        t.os  survival_time\n",
       "count   180.000000  181.000000     181.000000\n",
       "mean     61.327778   28.519316       8.480699\n",
       "median   62.000000   22.439425       3.712526\n",
       "std      10.977799   21.475065      12.378719\n",
       "min      30.000000    0.295688       0.032854\n",
       "max      88.000000   73.150685      61.906849"
      ]
     },
     "execution_count": 483,
     "metadata": {},
     "output_type": "execute_result"
    }
   ],
   "source": [
    "dat_sample_subset.agg(\n",
    "    {\n",
    "        \"age\": [\"count\",\"mean\", \"median\", \"std\", \"min\", \"max\"],\n",
    "        \"t.os\": [\"count\", \"mean\", \"median\", \"std\", \"min\", \"max\"],\n",
    "        \"survival_time\": [\"count\",\"mean\", \"median\", \"std\", \"min\", \"max\"],\n",
    "    }\n",
    ")"
   ]
  },
  {
   "cell_type": "code",
   "execution_count": 484,
   "id": "f27a76b7",
   "metadata": {
    "scrolled": true
   },
   "outputs": [
    {
     "data": {
      "text/html": [
       "<div>\n",
       "<style scoped>\n",
       "    .dataframe tbody tr th:only-of-type {\n",
       "        vertical-align: middle;\n",
       "    }\n",
       "\n",
       "    .dataframe tbody tr th {\n",
       "        vertical-align: top;\n",
       "    }\n",
       "\n",
       "    .dataframe thead th {\n",
       "        text-align: right;\n",
       "    }\n",
       "</style>\n",
       "<table border=\"1\" class=\"dataframe\">\n",
       "  <thead>\n",
       "    <tr style=\"text-align: right;\">\n",
       "      <th>response</th>\n",
       "      <th>NR</th>\n",
       "      <th>R</th>\n",
       "      <th>All</th>\n",
       "    </tr>\n",
       "    <tr>\n",
       "      <th>sex</th>\n",
       "      <th></th>\n",
       "      <th></th>\n",
       "      <th></th>\n",
       "    </tr>\n",
       "  </thead>\n",
       "  <tbody>\n",
       "    <tr>\n",
       "      <th>F</th>\n",
       "      <td>85</td>\n",
       "      <td>33</td>\n",
       "      <td>118</td>\n",
       "    </tr>\n",
       "    <tr>\n",
       "      <th>M</th>\n",
       "      <td>18</td>\n",
       "      <td>6</td>\n",
       "      <td>24</td>\n",
       "    </tr>\n",
       "    <tr>\n",
       "      <th>All</th>\n",
       "      <td>103</td>\n",
       "      <td>39</td>\n",
       "      <td>142</td>\n",
       "    </tr>\n",
       "  </tbody>\n",
       "</table>\n",
       "</div>"
      ],
      "text/plain": [
       "response   NR   R  All\n",
       "sex                   \n",
       "F          85  33  118\n",
       "M          18   6   24\n",
       "All       103  39  142"
      ]
     },
     "execution_count": 484,
     "metadata": {},
     "output_type": "execute_result"
    }
   ],
   "source": [
    "response_sex_class = pd.crosstab(index=dat_sample_subset[\"sex\"], \n",
    "                         columns=dat_sample_subset[\"response\"],\n",
    "                             margins=True)  \n",
    "response_sex_class"
   ]
  },
  {
   "cell_type": "markdown",
   "id": "5cf565cf",
   "metadata": {},
   "source": [
    "We assess under the null hypothesis the sex and response is independent using the Chi-squared test. The p-value = 0.999 shows we don't have enough evidence to reject the null hypothesis.   "
   ]
  },
  {
   "cell_type": "code",
   "execution_count": 561,
   "id": "a226ce69",
   "metadata": {},
   "outputs": [
    {
     "data": {
      "text/plain": [
       "0.999"
      ]
     },
     "execution_count": 561,
     "metadata": {},
     "output_type": "execute_result"
    }
   ],
   "source": [
    "# Chi-square test of independence.\n",
    "\n",
    "c, p, dof, expected = chi2_contingency(response_sex_class)\n",
    "\n",
    "round(p, 3)"
   ]
  },
  {
   "cell_type": "markdown",
   "id": "9538e49f",
   "metadata": {},
   "source": [
    "## Logistic regression analysis\n",
    "\n",
    "To assess the association between genes and response (i.e., R/NR) variable, we fit the logistic regression model. \n",
    "\n",
    "The p-value = 0.2078 represents there is not a statistically significant association between response and expression data. \n"
   ]
  },
  {
   "cell_type": "code",
   "execution_count": 562,
   "id": "ab4a3d32",
   "metadata": {
    "scrolled": false
   },
   "outputs": [
    {
     "name": "stdout",
     "output_type": "stream",
     "text": [
      "Optimization terminated successfully.\n",
      "         Current function value: 0.582220\n",
      "         Iterations 5\n"
     ]
    },
    {
     "data": {
      "text/html": [
       "<table class=\"simpletable\">\n",
       "<caption>Logit Regression Results</caption>\n",
       "<tr>\n",
       "  <th>Dep. Variable:</th>           <td>y</td>        <th>  No. Observations:  </th>  <td>   142</td> \n",
       "</tr>\n",
       "<tr>\n",
       "  <th>Model:</th>                 <td>Logit</td>      <th>  Df Residuals:      </th>  <td>   140</td> \n",
       "</tr>\n",
       "<tr>\n",
       "  <th>Method:</th>                 <td>MLE</td>       <th>  Df Model:          </th>  <td>     1</td> \n",
       "</tr>\n",
       "<tr>\n",
       "  <th>Date:</th>            <td>Wed, 17 Aug 2022</td> <th>  Pseudo R-squ.:     </th> <td>0.009538</td>\n",
       "</tr>\n",
       "<tr>\n",
       "  <th>Time:</th>                <td>09:38:52</td>     <th>  Log-Likelihood:    </th> <td> -82.675</td>\n",
       "</tr>\n",
       "<tr>\n",
       "  <th>converged:</th>             <td>True</td>       <th>  LL-Null:           </th> <td> -83.471</td>\n",
       "</tr>\n",
       "<tr>\n",
       "  <th>Covariance Type:</th>     <td>nonrobust</td>    <th>  LLR p-value:       </th>  <td>0.2070</td> \n",
       "</tr>\n",
       "</table>\n",
       "<table class=\"simpletable\">\n",
       "<tr>\n",
       "      <td></td>         <th>coef</th>     <th>std err</th>      <th>z</th>      <th>P>|z|</th>  <th>[0.025</th>    <th>0.975]</th>  \n",
       "</tr>\n",
       "<tr>\n",
       "  <th>Intercept</th> <td>   15.9792</td> <td>   11.924</td> <td>    1.340</td> <td> 0.180</td> <td>   -7.392</td> <td>   39.351</td>\n",
       "</tr>\n",
       "<tr>\n",
       "  <th>x</th>         <td>   -0.4873</td> <td>    0.387</td> <td>   -1.260</td> <td> 0.208</td> <td>   -1.245</td> <td>    0.271</td>\n",
       "</tr>\n",
       "</table>"
      ],
      "text/plain": [
       "<class 'statsmodels.iolib.summary.Summary'>\n",
       "\"\"\"\n",
       "                           Logit Regression Results                           \n",
       "==============================================================================\n",
       "Dep. Variable:                      y   No. Observations:                  142\n",
       "Model:                          Logit   Df Residuals:                      140\n",
       "Method:                           MLE   Df Model:                            1\n",
       "Date:                Wed, 17 Aug 2022   Pseudo R-squ.:                0.009538\n",
       "Time:                        09:38:52   Log-Likelihood:                -82.675\n",
       "converged:                       True   LL-Null:                       -83.471\n",
       "Covariance Type:            nonrobust   LLR p-value:                    0.2070\n",
       "==============================================================================\n",
       "                 coef    std err          z      P>|z|      [0.025      0.975]\n",
       "------------------------------------------------------------------------------\n",
       "Intercept     15.9792     11.924      1.340      0.180      -7.392      39.351\n",
       "x             -0.4873      0.387     -1.260      0.208      -1.245       0.271\n",
       "==============================================================================\n",
       "\"\"\""
      ]
     },
     "execution_count": 562,
     "metadata": {},
     "output_type": "execute_result"
    }
   ],
   "source": [
    "# clean and prepare data\n",
    "y = dat_sample_subset[\"response\"]\n",
    "x = dat_exp.transpose()\n",
    "\n",
    "x_subset = x.loc[:, \"ENSG00000000457.9\"]\n",
    "\n",
    "df = pd.DataFrame({'x': x_subset, \n",
    "        'y': dat_sample_subset[\"response\"]}\n",
    ")\n",
    "df = df.dropna()\n",
    "\n",
    "df[\"y\"] = df[\"y\"].map({\"R\": 0, \"NR\" : 1})\n",
    "\n",
    "# fit logistic model\n",
    "\n",
    "model_logit = smf.logit(formula=\"y ~ x\", data=df)\n",
    "res = model_logit.fit()\n",
    "\n",
    "res.summary()\n"
   ]
  },
  {
   "cell_type": "code",
   "execution_count": 545,
   "id": "7b55928c",
   "metadata": {},
   "outputs": [
    {
     "data": {
      "text/plain": [
       "{'gene_id': 'ENSG00000000457.9',\n",
       " 'logOR': -0.4873,\n",
       " 'SE': 0.3868,\n",
       " 'pval': 0.2078}"
      ]
     },
     "execution_count": 545,
     "metadata": {},
     "output_type": "execute_result"
    }
   ],
   "source": [
    "res_df = {\n",
    "             \"gene_id\": \"ENSG00000000457.9\",\n",
    "             \"logOR\":round(res.params[\"x\"], 4),\n",
    "             \"SE\" : round(res.bse[\"x\"], 4),\n",
    "             \"pval\":round(res.pvalues[\"x\"], 4)\n",
    "                       }\n",
    "\n",
    "res_df\n"
   ]
  },
  {
   "cell_type": "markdown",
   "id": "1a21fe91",
   "metadata": {},
   "source": [
    "## Survival analysis\n",
    "\n",
    "### Part I\n",
    "\n",
    "We consider the Kaplan-Meier and log-rank test to assess if there is any statistically difference in survival rate if we devide our data based on sex (F vs. M).\n"
   ]
  },
  {
   "cell_type": "code",
   "execution_count": 493,
   "id": "a02ce55c",
   "metadata": {},
   "outputs": [
    {
     "data": {
      "text/plain": [
       "Text(0.5, 1.0, 'Overall Survival function')"
      ]
     },
     "execution_count": 493,
     "metadata": {},
     "output_type": "execute_result"
    },
    {
     "data": {
      "image/png": "[encoded data removed]",
      "text/plain": [
       "<Figure size 432x288 with 1 Axes>"
      ]
     },
     "metadata": {
      "needs_background": "light"
     },
     "output_type": "display_data"
    }
   ],
   "source": [
    "T = dat_sample_subset[\"t.os\"]\n",
    "E = dat_sample_subset[\"os\"]\n",
    "\n",
    "kmf = KaplanMeierFitter()\n",
    "kmf.fit(durations = T, \n",
    "        event_observed = E)\n",
    "kmf.plot_survival_function()\n",
    "plt.title('Overall Survival function')"
   ]
  },
  {
   "cell_type": "code",
   "execution_count": 499,
   "id": "a2ab4057",
   "metadata": {
    "scrolled": false
   },
   "outputs": [
    {
     "data": {
      "text/plain": [
       "Text(0.5, 1.0, 'Survival of different gender group')"
      ]
     },
     "execution_count": 499,
     "metadata": {},
     "output_type": "execute_result"
    },
    {
     "data": {
      "image/png": "[encoded data removed]",
      "text/plain": [
       "<Figure size 432x288 with 2 Axes>"
      ]
     },
     "metadata": {
      "needs_background": "light"
     },
     "output_type": "display_data"
    }
   ],
   "source": [
    "ax = plt.subplot(111)\n",
    "\n",
    "m = (dat_sample_subset[\"sex\"] == \"M\")\n",
    "kmf.fit(durations = T[m], event_observed = E[m], label = \"Male\")\n",
    "kmf.plot_survival_function(ax = ax)\n",
    "kmf.fit(T[~m], event_observed = E[~m], label = \"Female\")\n",
    "kmf.plot_survival_function(ax = ax, at_risk_counts = True)\n",
    "plt.title(\"Survival of different gender group\")\n"
   ]
  },
  {
   "cell_type": "markdown",
   "id": "06b53c00",
   "metadata": {},
   "source": [
    "### Part II\n",
    "\n",
    "To assess the association between genes and time-to-event variables (i.e., OS or PFS), we fit the Cox regression model.\n"
   ]
  },
  {
   "cell_type": "code",
   "execution_count": 533,
   "id": "904c4e7b",
   "metadata": {
    "scrolled": true
   },
   "outputs": [],
   "source": [
    "df = pd.DataFrame({\n",
    "    'T': dat_sample_subset[\"t.os\"],\n",
    "    'E': dat_sample_subset[\"os\"],\n",
    "    'exp': x_subset,\n",
    "})\n",
    "\n",
    "cph = CoxPHFitter()\n",
    "cph_fit = cph.fit(df, duration_col = 'T', event_col= 'E')\n",
    "#cph.print_summary()\n"
   ]
  },
  {
   "cell_type": "code",
   "execution_count": 524,
   "id": "6a5b1d0a",
   "metadata": {},
   "outputs": [
    {
     "data": {
      "text/plain": [
       "{'gene_id': 'ENSG00000000457.9',\n",
       " 'logHR': -0.24024270483743868,\n",
       " 'SE': 0.19588504441991098}"
      ]
     },
     "execution_count": 524,
     "metadata": {},
     "output_type": "execute_result"
    }
   ],
   "source": [
    "res_df = {\n",
    "             \"gene_id\": x.columns.values.tolist()[3],\n",
    "             \"logHR\":cph.params_[\"exp\"],\n",
    "             \"SE\" : cph.standard_errors_[\"exp\"],\n",
    "                       }\n",
    "\n",
    "res_df\n"
   ]
  }
 ],
 "metadata": {
  "kernelspec": {
   "display_name": "Python 3 (ipykernel)",
   "language": "python",
   "name": "python3"
  },
  "language_info": {
   "codemirror_mode": {
    "name": "ipython",
    "version": 3
   },
   "file_extension": ".py",
   "mimetype": "text/x-python",
   "name": "python",
   "nbconvert_exporter": "python",
   "pygments_lexer": "ipython3",
   "version": "3.9.12"
  }
 },
 "nbformat": 4,
 "nbformat_minor": 5
}
