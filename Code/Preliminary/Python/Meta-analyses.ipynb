{
 "cells": [
  {
   "cell_type": "markdown",
   "id": "5c9e6acb",
   "metadata": {},
   "source": [
    "# Immune-checkpoint blockade (ICB) data\n",
    "\n",
    "## Load data\n",
    "\n",
    "To download and extract TSV version of ICB data from Zenodo (https://zenodo.org/record/7058399/files/), follow the script named download_tsv_data.py file at \"~/Code/Download_Data\". \n",
    "\n",
    "\n",
    "We read RNA-seq expression, clinicopathological characteristics, and gene meta data for the following selected ICB studies to include in meta-analysis. \n",
    "\n",
    "1. ICB Braun (PMID 32472114)\n",
    "2. Nathanson (PMID 27956380)\n",
    "3. Snyder (PMID 28552987)\n",
    "4. Van Allen (PMID 26359337) \n",
    "\n",
    "As an example, we share the codes to get read the RNA-seq expression, clinicopathological characteristics, and gene meta data usign ICB Braun data. The Braun study includes 319 patients with clinical data and 40,994 genes. While only 181 patients have both clinical data and RNA-seq expression data. \n",
    "\n",
    "Note that the expression data is $log2(\\text{TPM} + 0.001)$, where TPM represents transcripts per million. \n"
   ]
  },
  {
   "cell_type": "code",
   "execution_count": 1,
   "id": "8d504288",
   "metadata": {
    "scrolled": false
   },
   "outputs": [],
   "source": [
    "# importing libraries\n",
    "import pandas as pd\n",
    "import numpy as np\n",
    "import statsmodels.api as sm\n",
    "import statsmodels.formula.api as smf\n",
    "from lifelines import CoxPHFitter\n",
    "import matplotlib.pyplot as plt\n",
    "from statsmodels.stats.meta_analysis import (\n",
    "    effectsize_smd,\n",
    "    effectsize_2proportions,\n",
    "    combine_effects,\n",
    "    _fit_tau_iterative,\n",
    "    _fit_tau_mm,\n",
    "    _fit_tau_iter_mm,\n",
    ")\n"
   ]
  },
  {
   "cell_type": "markdown",
   "id": "3b5c5d89",
   "metadata": {},
   "source": [
    "### Braun study"
   ]
  },
  {
   "cell_type": "code",
   "execution_count": 2,
   "id": "445575e5",
   "metadata": {
    "scrolled": true
   },
   "outputs": [],
   "source": [
    "## Braun \n",
    "# clinicopathological characteristics  \n",
    "dat_sample_braun = pd.read_csv('ICB_Braun_metadata.tsv', sep='\\t')\n",
    "\n",
    "# gene meta data\n",
    "dat_gene_braun = pd.read_csv('ICB_Braun_expr_genes.tsv', sep='\\t')\n",
    "\n",
    "# RNA-seq expression data (i.e., log2(TPM + 0.001)) \n",
    "dat_exp_braun = pd.read_csv('ICB_Braun_expr.tsv', sep='\\t')\n",
    "\n",
    "# Get the subset of data with both clinical and expression data.\n",
    "dat_sample_braun_subset = dat_sample_braun.loc[dat_exp_braun.columns.values.tolist(), ]"
   ]
  },
  {
   "cell_type": "markdown",
   "id": "1d4ada80",
   "metadata": {},
   "source": [
    "### Nathanson study"
   ]
  },
  {
   "cell_type": "code",
   "execution_count": 3,
   "id": "504d37f5",
   "metadata": {},
   "outputs": [],
   "source": [
    "## Nathanson \n",
    "# clinicopathological characteristics  \n",
    "dat_sample_nathanson = pd.read_csv('ICB_Nathanson_metadata.tsv', sep='\\t')\n",
    "\n",
    "# gene meta data\n",
    "dat_gene_nathanson = pd.read_csv('ICB_Nathanson_expr_genes.tsv', sep='\\t')\n",
    "\n",
    "# RNA-seq expression data (i.e., log2(TPM + 0.001)) \n",
    "dat_exp_nathanson = pd.read_csv('ICB_Nathanson_expr.tsv', sep='\\t')\n",
    "\n",
    "# Get the subset of data with both clinical and expression data.\n",
    "dat_sample_nathanson_subset = dat_sample_nathanson.loc[dat_exp_nathanson.columns.values.tolist(), ]"
   ]
  },
  {
   "cell_type": "markdown",
   "id": "147c0480",
   "metadata": {},
   "source": [
    "### Snyder study"
   ]
  },
  {
   "cell_type": "code",
   "execution_count": 4,
   "id": "f616373c",
   "metadata": {},
   "outputs": [],
   "source": [
    "## Snyder\n",
    "# clinicopathological characteristics  \n",
    "dat_sample_snyder = pd.read_csv('ICB_Snyder_metadata.tsv', sep='\\t')\n",
    "\n",
    "# gene meta data\n",
    "dat_gene_snyder = pd.read_csv('ICB_Snyder_expr_genes.tsv', sep='\\t')\n",
    "\n",
    "# RNA-seq expression data (i.e., log2(TPM + 0.001)) \n",
    "dat_exp_snyder = pd.read_csv('ICB_Snyder_expr.tsv', sep='\\t')\n",
    "\n",
    "# Get the subset of data with both clinical and expression data.\n",
    "dat_sample_snyder_subset = dat_sample_snyder.loc[dat_exp_snyder.columns.values.tolist(), ]\n"
   ]
  },
  {
   "cell_type": "markdown",
   "id": "08e47974",
   "metadata": {},
   "source": [
    "### Van Allen study"
   ]
  },
  {
   "cell_type": "code",
   "execution_count": 5,
   "id": "b99d4fad",
   "metadata": {},
   "outputs": [],
   "source": [
    "\n",
    "## Van_Allen \n",
    "# clinicopathological characteristics  \n",
    "dat_sample_van_allen = pd.read_csv('ICB_Van_Allen_metadata.tsv', sep='\\t')\n",
    "\n",
    "# gene meta data\n",
    "dat_gene_van_allen = pd.read_csv('ICB_Van_Allen_expr_genes.tsv', sep='\\t')\n",
    "\n",
    "# RNA-seq expression data (i.e., log2(TPM + 0.001)) \n",
    "dat_exp_van_allen = pd.read_csv('ICB_Van_Allen_expr.tsv', sep='\\t')\n",
    "\n",
    "# Get the subset of data with both clinical and expression data.\n",
    "dat_sample_van_allen_subset = dat_sample_van_allen.loc[dat_exp_van_allen.columns.values.tolist(), ]\n"
   ]
  },
  {
   "cell_type": "markdown",
   "id": "94094127",
   "metadata": {},
   "source": [
    "## Logistic regression analysis \n",
    "\n",
    "For each study, we assess the association between genes and response variable (R vs NR) by fitting the logistic regression model. For a given gene, we fit the model under each study to identify the log(OR) and its standard error (SE). We consider a gene (e.g., ENSG00000065491.8 or TBC1D22B) that is in common across selected ICB studies."
   ]
  },
  {
   "cell_type": "code",
   "execution_count": 13,
   "id": "f59eafea",
   "metadata": {},
   "outputs": [
    {
     "name": "stdout",
     "output_type": "stream",
     "text": [
      "Optimization terminated successfully.\n",
      "         Current function value: 0.553173\n",
      "         Iterations 6\n",
      "Optimization terminated successfully.\n",
      "         Current function value: 0.659012\n",
      "         Iterations 5\n",
      "Optimization terminated successfully.\n",
      "         Current function value: 0.678649\n",
      "         Iterations 4\n",
      "Optimization terminated successfully.\n",
      "         Current function value: 0.529296\n",
      "         Iterations 5\n"
     ]
    }
   ],
   "source": [
    "# Braun \n",
    "\n",
    "y = dat_sample_braun_subset[\"response\"]\n",
    "x = dat_exp_braun.transpose()\n",
    "\n",
    "x_subset = x.loc[:, \"ENSG00000065491.8\"]\n",
    "\n",
    "df = pd.DataFrame({'x': x_subset, \n",
    "        'y': y}\n",
    ")\n",
    "df = df.dropna()\n",
    "\n",
    "df[\"y\"] = df[\"y\"].map({\"R\": 0, \"NR\" : 1})\n",
    "\n",
    "# fit logistic model\n",
    "\n",
    "model_logit = smf.logit(formula=\"y ~ x\", data=df)\n",
    "res = model_logit.fit()\n",
    "\n",
    "res_braun = [\"Braun\", \n",
    "             len(x_subset),\n",
    "             round(res.params[\"x\"], 4), \n",
    "             round(res.bse[\"x\"], 4),\n",
    "             round(res.pvalues[\"x\"], 4)]\n",
    "\n",
    "\n",
    "# Nathanson \n",
    "\n",
    "y = dat_sample_nathanson_subset[\"response\"]\n",
    "x = dat_exp_nathanson.transpose()\n",
    "\n",
    "x_subset = x.loc[:, \"ENSG00000065491.8\"]\n",
    "\n",
    "df = pd.DataFrame({'x': x_subset, \n",
    "        'y': y}\n",
    ")\n",
    "df = df.dropna()\n",
    "\n",
    "df[\"y\"] = df[\"y\"].map({\"R\": 0, \"NR\" : 1})\n",
    "\n",
    "# fit logistic model\n",
    "\n",
    "model_logit = smf.logit(formula=\"y ~ x\", data=df)\n",
    "res = model_logit.fit()\n",
    "\n",
    "res_nathanson = [\"Nathanson\", \n",
    "             len(x_subset),\n",
    "             round(res.params[\"x\"], 4), \n",
    "             round(res.bse[\"x\"], 4),\n",
    "             round(res.pvalues[\"x\"], 4)]\n",
    "\n",
    "\n",
    "# Snyder\n",
    "\n",
    "y = dat_sample_snyder_subset[\"response\"]\n",
    "x = dat_exp_snyder.transpose()\n",
    "\n",
    "x_subset = x.loc[:, \"ENSG00000065491.8\"]\n",
    "\n",
    "df = pd.DataFrame({'x': x_subset, \n",
    "        'y': y}\n",
    ")\n",
    "df = df.dropna()\n",
    "\n",
    "df[\"y\"] = df[\"y\"].map({\"R\": 0, \"NR\" : 1})\n",
    "\n",
    "# fit logistic model\n",
    "\n",
    "model_logit = smf.logit(formula=\"y ~ x\", data=df)\n",
    "res = model_logit.fit()\n",
    "\n",
    "res_snyder = [\"Snyder\", \n",
    "             len(x_subset),\n",
    "             round(res.params[\"x\"], 4), \n",
    "             round(res.bse[\"x\"], 4),\n",
    "             round(res.pvalues[\"x\"], 4)]\n",
    "\n",
    "\n",
    "# Van_Allen\n",
    "\n",
    "y = dat_sample_van_allen_subset[\"response\"]\n",
    "x = dat_exp_van_allen.transpose()\n",
    "\n",
    "x_subset = x.loc[:, \"ENSG00000065491.8\"]\n",
    "\n",
    "df = pd.DataFrame({'x': x_subset, \n",
    "        'y': y}\n",
    ")\n",
    "df = df.dropna()\n",
    "\n",
    "df[\"y\"] = df[\"y\"].map({\"R\": 0, \"NR\" : 1})\n",
    "\n",
    "# fit logistic model\n",
    "\n",
    "model_logit = smf.logit(formula=\"y ~ x\", data=df)\n",
    "res = model_logit.fit()\n",
    "\n",
    "res_van_allen = [\"Van_Allen\", \n",
    "             len(x_subset),\n",
    "             round(res.params[\"x\"], 4), \n",
    "             round(res.bse[\"x\"], 4),\n",
    "             round(res.pvalues[\"x\"], 4)]\n"
   ]
  },
  {
   "cell_type": "markdown",
   "id": "4d1371d9",
   "metadata": {},
   "source": [
    "## Meta-analysis \n",
    "\n",
    "Meta-analyses can be performed to integrate independent studies to identify more reliable findings by increasing statistical power and reducing false positives. The strengths and limitations of meta-analyses are\n",
    "evaluated particularly with respect to their ability to assess variation across studies or heterogeneity. Several meta-analysis methods have been proposed such as combining p-values, combining effect estimates, and rankings. \n",
    "\n",
    "Approaches that combine effects including fixed- and random-effects (FE & RE) models are widely used to achieve a broad inferential basis for evaluations of effects. Under the FE model, we assume that there is one true effect that underlies all the studies in the analysis, and that all differences in\n",
    "observed effects are due to sampling error. In contrast, the RE model incorporates the variability of the effects across studies in addition to the within-study variability using a two-stage hierarchical process. \n",
    "\n",
    "Assessing heterogeneity is a critical issue in meta-analysis because different models may lead to different estimates of overall effect and different standard errors.Several approaches have been suggested over the years for how best to assess homogeneity across studies, and the corresponding research is ongoing. erSimonian and Laird (DL) (or chi2) is widely used to assess the hetergeneity.\n",
    "\n",
    "### Part I: response (R vs. NR)\n",
    "\n",
    "The forest plot demonstrates the fitted logistic regression model under each study including  the logOR, SE and p-value. Then, the meta-analysis was applied to integrate the results across studies using DL method to estimate heterogeneity. Under the FE meta-analysis, the gene is associated with OS, while under the RE meta-analysis, the forestplot does not show any significant association.       \n",
    "\n"
   ]
  },
  {
   "cell_type": "code",
   "execution_count": 16,
   "id": "306b5b75",
   "metadata": {
    "scrolled": true
   },
   "outputs": [
    {
     "name": "stdout",
     "output_type": "stream",
     "text": [
      "[ 0.9834 -0.8841  0.4076 -0.7336]\n",
      "[0.3277 0.9136 0.752  0.8009]\n",
      "[0.0027, 0.3332, 0.5878, 0.3597]\n"
     ]
    }
   ],
   "source": [
    "data = [\n",
    "        res_braun,\n",
    "        res_nathanson,\n",
    "        res_snyder,\n",
    "        res_van_allen,\n",
    "]\n",
    "\n",
    "colnames = [\"study\",\"n\", \"logOR\", \"SE\", \"Pvalue\"]\n",
    "rownames = [i[0] for i in data]\n",
    "dframe1 = pd.DataFrame(data, columns=colnames)\n",
    "rownames\n",
    "\n",
    "eff = [row[2] for row in data]\n",
    "eff = np.array(eff)\n",
    "print(eff)\n",
    "\n",
    "se_eff = [row[3] for row in data]\n",
    "se_eff = np.array(se_eff)\n",
    "print(se_eff)\n",
    "\n",
    "pval_eff = [row[4] for row in data]\n",
    "var_eff = np.array(pval_eff)\n",
    "print(pval_eff)\n"
   ]
  },
  {
   "cell_type": "code",
   "execution_count": 19,
   "id": "eef3e6c5",
   "metadata": {
    "scrolled": false
   },
   "outputs": [
    {
     "name": "stdout",
     "output_type": "stream",
     "text": [
      "                        eff    sd_eff    ci_low    ci_upp      w_fe      w_re\n",
      "Braun              0.983400  0.051962  0.881557  1.085243  0.980197  0.315947\n",
      "Nathanson         -0.884100  0.577235 -2.015459  0.247259  0.007943  0.241842\n",
      "Snyder             0.407600  0.766681 -1.095067  1.910267  0.004502  0.204832\n",
      "Van_Allen         -0.733600  0.599750 -1.909088  0.441888  0.007358  0.237378\n",
      "fixed effect       0.953341  0.051444  0.852512  1.054171  1.000000       NaN\n",
      "random effect      0.006239  0.583761 -1.137912  1.150390       NaN  1.000000\n",
      "fixed effect wls   0.953341  0.129075  0.700359  1.206324  1.000000       NaN\n",
      "random effect wls  0.006239  0.467731 -0.910498  0.922976       NaN  1.000000\n"
     ]
    }
   ],
   "source": [
    "res3 = combine_effects(eff, var_eff, method_re = \"chi2\", row_names = rownames)\n",
    "\n",
    "print(res3.summary_frame())\n"
   ]
  },
  {
   "cell_type": "code",
   "execution_count": 18,
   "id": "fa710088",
   "metadata": {},
   "outputs": [
    {
     "data": {
      "image/png": "[encoded data removed]",
      "text/plain": [
       "<Figure size 432x288 with 1 Axes>"
      ]
     },
     "metadata": {
      "needs_background": "light"
     },
     "output_type": "display_data"
    }
   ],
   "source": [
    "# forestplot\n",
    "\n",
    "fig = res3.plot_forest()\n",
    "\n"
   ]
  }
 ],
 "metadata": {
  "kernelspec": {
   "display_name": "Python 3 (ipykernel)",
   "language": "python",
   "name": "python3"
  },
  "language_info": {
   "codemirror_mode": {
    "name": "ipython",
    "version": 3
   },
   "file_extension": ".py",
   "mimetype": "text/x-python",
   "name": "python",
   "nbconvert_exporter": "python",
   "pygments_lexer": "ipython3",
   "version": "3.9.12"
  }
 },
 "nbformat": 4,
 "nbformat_minor": 5
}
