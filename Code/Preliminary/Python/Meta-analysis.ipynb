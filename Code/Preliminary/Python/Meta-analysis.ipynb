{
 "cells": [
  {
   "cell_type": "markdown",
   "id": "5c9e6acb",
   "metadata": {},
   "source": [
    "# Immune-checkpoint blockade (ICB) data\n",
    "\n",
    "## Load data\n",
    "Read RNA-seq expression, clinicopathological characteristics, and gene meta data for ICB Braun (PMID 32472114), Nathanson (PMID 27956380), Snyder (PMID 28552987), and Van Allen (PMID 26359337) data. \n",
    "\n",
    "Note the expression data is log2(TPM + 0.001), where TPM represents transcripts per million.    "
   ]
  },
  {
   "cell_type": "code",
   "execution_count": 149,
   "id": "8d504288",
   "metadata": {
    "scrolled": false
   },
   "outputs": [],
   "source": [
    "# importing libraries\n",
    "import pandas as pd\n",
    "import numpy as np\n",
    "import statsmodels.api as sm\n",
    "import statsmodels.formula.api as smf\n",
    "from lifelines import CoxPHFitter\n",
    "import matplotlib.pyplot as plt\n",
    "from statsmodels.stats.meta_analysis import (\n",
    "    effectsize_smd,\n",
    "    effectsize_2proportions,\n",
    "    combine_effects,\n",
    "    _fit_tau_iterative,\n",
    "    _fit_tau_mm,\n",
    "    _fit_tau_iter_mm,\n",
    ")\n"
   ]
  },
  {
   "cell_type": "markdown",
   "id": "3b5c5d89",
   "metadata": {},
   "source": [
    "### Braun study"
   ]
  },
  {
   "cell_type": "code",
   "execution_count": 131,
   "id": "445575e5",
   "metadata": {
    "scrolled": true
   },
   "outputs": [],
   "source": [
    "## Braun \n",
    "# clinicopathological characteristics  \n",
    "dat_sample_braun = pd.read_csv('ICB_Braun_metadata.tsv', sep='\\t')\n",
    "\n",
    "# gene meta data\n",
    "dat_gene_braun = pd.read_csv('ICB_Braun_expr_genes.tsv', sep='\\t')\n",
    "\n",
    "# RNA-seq expression data (i.e., log2(TPM + 0.001)) \n",
    "dat_exp_braun = pd.read_csv('ICB_Braun_expr.tsv', sep='\\t')\n",
    "\n",
    "# Get the subset of data with both clinical and expression data.\n",
    "dat_sample_braun_subset = dat_sample_braun.loc[dat_exp_braun.columns.values.tolist(), ]"
   ]
  },
  {
   "cell_type": "markdown",
   "id": "1d4ada80",
   "metadata": {},
   "source": [
    "### Nathanson study"
   ]
  },
  {
   "cell_type": "code",
   "execution_count": 132,
   "id": "504d37f5",
   "metadata": {},
   "outputs": [],
   "source": [
    "## Nathanson \n",
    "# clinicopathological characteristics  \n",
    "dat_sample_nathanson = pd.read_csv('ICB_Nathanson_metadata.tsv', sep='\\t')\n",
    "\n",
    "# gene meta data\n",
    "dat_gene_nathanson = pd.read_csv('ICB_Nathanson_expr_genes.tsv', sep='\\t')\n",
    "\n",
    "# RNA-seq expression data (i.e., log2(TPM + 0.001)) \n",
    "dat_exp_nathanson = pd.read_csv('ICB_Nathanson_expr.tsv', sep='\\t')\n",
    "\n",
    "# Get the subset of data with both clinical and expression data.\n",
    "dat_sample_nathanson_subset = dat_sample_nathanson.loc[dat_exp_nathanson.columns.values.tolist(), ]"
   ]
  },
  {
   "cell_type": "markdown",
   "id": "147c0480",
   "metadata": {},
   "source": [
    "### Snyder study"
   ]
  },
  {
   "cell_type": "code",
   "execution_count": 133,
   "id": "f616373c",
   "metadata": {},
   "outputs": [],
   "source": [
    "## Snyder\n",
    "# clinicopathological characteristics  \n",
    "dat_sample_snyder = pd.read_csv('ICB_Snyder_metadata.tsv', sep='\\t')\n",
    "\n",
    "# gene meta data\n",
    "dat_gene_snyder = pd.read_csv('ICB_Snyder_expr_genes.tsv', sep='\\t')\n",
    "\n",
    "# RNA-seq expression data (i.e., log2(TPM + 0.001)) \n",
    "dat_exp_snyder = pd.read_csv('ICB_Snyder_expr.tsv', sep='\\t')\n",
    "\n",
    "# Get the subset of data with both clinical and expression data.\n",
    "dat_sample_snyder_subset = dat_sample_snyder.loc[dat_exp_snyder.columns.values.tolist(), ]\n"
   ]
  },
  {
   "cell_type": "markdown",
   "id": "08e47974",
   "metadata": {},
   "source": [
    "### Van Allen study"
   ]
  },
  {
   "cell_type": "code",
   "execution_count": 83,
   "id": "b99d4fad",
   "metadata": {},
   "outputs": [],
   "source": [
    "\n",
    "## Van_Allen \n",
    "# clinicopathological characteristics  \n",
    "dat_sample_van_allen = pd.read_csv('ICB_Van_Allen_metadata.tsv', sep='\\t')\n",
    "\n",
    "# gene meta data\n",
    "dat_gene_van_allen = pd.read_csv('ICB_Van_Allen_expr_genes.tsv', sep='\\t')\n",
    "\n",
    "# RNA-seq expression data (i.e., log2(TPM + 0.001)) \n",
    "dat_exp_van_allen = pd.read_csv('ICB_Van_Allen_expr.tsv', sep='\\t')\n",
    "\n",
    "# Get the subset of data with both clinical and expression data.\n",
    "dat_sample_van_allen_subset = dat_sample_van_allen.loc[dat_exp_van_allen.columns.values.tolist(), ]\n"
   ]
  },
  {
   "cell_type": "markdown",
   "id": "94094127",
   "metadata": {},
   "source": [
    "## Survival analysis\n",
    "\n",
    "To assess the association between genes and time-to-event variable (e.g., OS), we fit the Cox regression model. For a given gene, zwe fit the model under each study to identify the log(HR) and its standard error (SE). We consider a gene (e.g., ENSG00000019995.6) taht ios in common across studies.\n"
   ]
  },
  {
   "cell_type": "code",
   "execution_count": 147,
   "id": "f59eafea",
   "metadata": {},
   "outputs": [
    {
     "data": {
      "text/plain": [
       "['Snyder', 25, -0.3527, 0.3899, 0.152]"
      ]
     },
     "execution_count": 147,
     "metadata": {},
     "output_type": "execute_result"
    }
   ],
   "source": [
    "# Braun \n",
    "\n",
    "x = dat_exp_braun.transpose()\n",
    "x_subset = x.loc[:, \"ENSG00000019995.6\"]\n",
    "\n",
    "df = pd.DataFrame({\n",
    "    'T': dat_sample_braun_subset[\"t.os\"],\n",
    "    'E': dat_sample_braun_subset[\"os\"],\n",
    "    'exp': x_subset,\n",
    "})\n",
    "\n",
    "cph = CoxPHFitter()\n",
    "cph.fit(df, 'T', 'E')\n",
    "\n",
    "res_braun = [\"Braun\", \n",
    "             len(x_subset),\n",
    "             round(cph.params_[\"exp\"], 4), \n",
    "             round(cph.standard_errors_[\"exp\"],4),\n",
    "             round(pow(cph.standard_errors_[\"exp\"], 2), 4)]\n",
    "\n",
    "\n",
    "# Nathanson \n",
    "\n",
    "x = dat_exp_nathanson.transpose()\n",
    "x_subset = x.loc[:, \"ENSG00000019995.6\"]\n",
    "\n",
    "df = pd.DataFrame({\n",
    "    'T': dat_sample_nathanson_subset[\"t.os\"],\n",
    "    'E': dat_sample_nathanson_subset[\"os\"],\n",
    "    'exp': x_subset,\n",
    "})\n",
    "\n",
    "cph = CoxPHFitter()\n",
    "cph.fit(df, 'T', 'E')\n",
    "\n",
    "res_nathanson = [\"Nathanson\",\n",
    "                 len(x_subset),\n",
    "                 round(cph.params_[\"exp\"], 4), \n",
    "                 round(cph.standard_errors_[\"exp\"], 4),\n",
    "                 round(pow(cph.standard_errors_[\"exp\"], 2), 4)]\n",
    "\n",
    "\n",
    "\n",
    "# Snyder\n",
    "\n",
    "x = dat_exp_snyder.transpose()\n",
    "x_subset = x.loc[:, \"ENSG00000019995.6\"]\n",
    "\n",
    "df = pd.DataFrame({\n",
    "    'T': dat_sample_snyder_subset[\"t.os\"],\n",
    "    'E': dat_sample_snyder_subset[\"os\"],\n",
    "    'exp': x_subset,\n",
    "})\n",
    "\n",
    "cph = CoxPHFitter()\n",
    "cph.fit(df, 'T', 'E')\n",
    "\n",
    "res_snyder = [\"Snyder\", \n",
    "              len(x_subset),\n",
    "              round(cph.params_[\"exp\"], 4), \n",
    "              round(cph.standard_errors_[\"exp\"], 4),\n",
    "              round(pow(cph.standard_errors_[\"exp\"], 2), 4)]\n",
    "\n",
    "\n",
    "# Van Allen \n",
    "\n",
    "x = dat_exp_van_allen.transpose()\n",
    "x_subset = x.loc[:, \"ENSG00000019995.6\"]\n",
    "\n",
    "df = pd.DataFrame({\n",
    "    'T': dat_sample_van_allen_subset[\"t.os\"],\n",
    "    'E': dat_sample_van_allen_subset[\"os\"],\n",
    "    'exp': x_subset,\n",
    "})\n",
    "\n",
    "cph = CoxPHFitter()\n",
    "cph.fit(df, 'T', 'E')\n",
    "\n",
    "res_van_allen = [\"Van_Allen\", \n",
    "                 len(x_subset),\n",
    "                 round(cph.params_[\"exp\"], 4), \n",
    "                 round(cph.standard_errors_[\"exp\"], 4),\n",
    "                 round(pow(cph.standard_errors_[\"exp\"], 2), 4)]\n",
    "\n",
    "res_snyder "
   ]
  },
  {
   "cell_type": "markdown",
   "id": "4d1371d9",
   "metadata": {},
   "source": [
    "## Meta-analysis \n",
    "\n",
    "Meta-analyses can be performed to integrate independent studies to identify more reliable findings by increasing statistical power and reducing false positives. The strengths and limitations of meta-analyses are\n",
    "evaluated particularly with respect to their ability to assess variation across studies or heterogeneity. Several meta-analysis methods have been proposed such as combining p-values, combining effect estimates, and rankings. \n",
    "\n",
    "Approaches that combine effects including fixed- and random-effects (FE & RE) models are widely used to achieve a broad inferential basis for evaluations of effects. Under the FE model, we assume that there is one true effect that underlies all the studies in the analysis, and that all differences in\n",
    "observed effects are due to sampling error. In contrast, the RE model incorporates the variability of the effects across studies in addition to the within-study variability using a two-stage hierarchical process. \n",
    "\n",
    "Assessing heterogeneity is a critical issue in meta-analysis because different models may lead to different estimates of overall effect and different standard errors.Several approaches have been suggested over the years for how best to assess homogeneity across studies, and the corresponding research is ongoing. erSimonian and Laird (DL) (or chi2) is widely used to assess the hetergeneity. \n"
   ]
  },
  {
   "cell_type": "code",
   "execution_count": 142,
   "id": "306b5b75",
   "metadata": {
    "scrolled": true
   },
   "outputs": [
    {
     "name": "stdout",
     "output_type": "stream",
     "text": [
      "[-0.0759  0.0588 -0.3527 -0.134 ]\n",
      "[0.0207 0.1599 0.152  0.1422]\n",
      "[0.1437 0.3999 0.3899 0.3771]\n"
     ]
    }
   ],
   "source": [
    "data = [\n",
    "        res_braun,\n",
    "        res_nathanson,\n",
    "        res_snyder,\n",
    "        res_van_allen,\n",
    "]\n",
    "\n",
    "colnames = [\"study\",\"n\", \"logHR\", \"SE\", \"Var\"]\n",
    "rownames = [i[0] for i in data]\n",
    "dframe1 = pd.DataFrame(data, columns=colnames)\n",
    "rownames\n",
    "\n",
    "eff = [row[2] for row in data]\n",
    "eff = np.array(eff)\n",
    "print(eff)\n",
    "\n",
    "var_eff = [row[4] for row in data]\n",
    "var_eff = np.array(var_eff)\n",
    "print(var_eff)\n",
    "\n",
    "se_eff = [row[3] for row in data]\n",
    "se_eff = np.array(se_eff)\n",
    "print(se_eff)"
   ]
  },
  {
   "cell_type": "code",
   "execution_count": 148,
   "id": "eef3e6c5",
   "metadata": {
    "scrolled": false
   },
   "outputs": [
    {
     "name": "stdout",
     "output_type": "stream",
     "text": [
      "                        eff    sd_eff    ci_low    ci_upp      w_fe      w_re\n",
      "Braun             -0.075900  0.143875 -0.357890  0.206090  0.708612 -0.889816\n",
      "Nathanson          0.058800  0.399875 -0.724941  0.842541  0.091734  0.561816\n",
      "Snyder            -0.352700  0.389872 -1.116835  0.411435  0.096502  0.619139\n",
      "Van_Allen         -0.134000  0.377094 -0.873091  0.605091  0.103152  0.708861\n",
      "fixed effect      -0.096248  0.121113 -0.333625  0.141128  1.000000       NaN\n",
      "random effect     -0.212786  0.218947 -0.641914  0.216342       NaN  1.000000\n",
      "fixed effect wls  -0.096248  0.054749 -0.203554  0.011058  1.000000       NaN\n",
      "random effect wls -0.212786  0.117312 -0.442713  0.017141       NaN  1.000000\n"
     ]
    }
   ],
   "source": [
    "res3 = combine_effects(eff, var_eff, method_re = \"chi2\", row_names = rownames)\n",
    "\n",
    "print(res3.summary_frame())\n"
   ]
  },
  {
   "cell_type": "code",
   "execution_count": 143,
   "id": "fa710088",
   "metadata": {},
   "outputs": [
    {
     "data": {
      "image/png": "[encoded data removed]",
      "text/plain": [
       "<Figure size 432x288 with 1 Axes>"
      ]
     },
     "metadata": {
      "needs_background": "light"
     },
     "output_type": "display_data"
    }
   ],
   "source": [
    "# forestplot\n",
    "\n",
    "fig = res3.plot_forest()\n",
    "\n"
   ]
  }
 ],
 "metadata": {
  "kernelspec": {
   "display_name": "Python 3 (ipykernel)",
   "language": "python",
   "name": "python3"
  },
  "language_info": {
   "codemirror_mode": {
    "name": "ipython",
    "version": 3
   },
   "file_extension": ".py",
   "mimetype": "text/x-python",
   "name": "python",
   "nbconvert_exporter": "python",
   "pygments_lexer": "ipython3",
   "version": "3.9.12"
  }
 },
 "nbformat": 4,
 "nbformat_minor": 5
}
